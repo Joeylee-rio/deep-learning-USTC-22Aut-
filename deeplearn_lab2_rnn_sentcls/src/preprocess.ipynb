{
 "cells": [
  {
   "cell_type": "code",
   "execution_count": 1,
   "metadata": {},
   "outputs": [],
   "source": [
    "# gonna preprocess the datafile into csv file \n",
    "# and then we can leverage `torchtext` package to process it \n",
    "# into proper data structures...\n",
    "data_root_path = '/data2/home/zhaoyi/labs/USTC-labs/deeplearn_lab2/dataset/aclImdb'\n",
    "test_path = data_root_path + '/test/'\n",
    "train_path = data_root_path + '/train/'\n",
    "train_pos = train_path + 'pos/'\n",
    "train_neg = train_path + 'neg/'\n",
    "test_pos = test_path + 'pos/'\n",
    "test_neg = test_path + 'neg/'"
   ]
  },
  {
   "cell_type": "code",
   "execution_count": 2,
   "metadata": {},
   "outputs": [],
   "source": [
    "import os\n",
    "# 遍历文件夹\n",
    "train_data = list()\n",
    "test_data = list()\n",
    "def walkFile(file):\n",
    "    for root, dirs, files in os.walk(file):\n",
    "        # root 表示当前访问的文件夹路径\n",
    "        # dirs 表示该文件夹下的子目录名list\n",
    "        # files 表示该文件夹下的文件list\n",
    "        # 遍历文件\n",
    "        '''\n",
    "        for f in files:\n",
    "            print(os.path.join(root, f))\n",
    "        # 遍历所有的文件夹\n",
    "        for d in dirs:\n",
    "            print(os.path.join(root, d))\n",
    "        '''\n",
    "        print(type(root))\n",
    "        print(root)\n",
    "        print(files[0])\n",
    "        print(root+files[0])\n",
    "        print(files[-1])\n",
    "        for file in files:\n",
    "            fpath = root + file\n",
    "            fr = open(fpath,\"r\")\n",
    "            for line in fr.readlines():\n",
    "                line = line.strip()\n",
    "                if 'pos' in fpath:\n",
    "                    cls = 1 # 1 represent pos\n",
    "                elif 'neg' in fpath:\n",
    "                    cls = 0 # 0 represent neg\n",
    "                else:\n",
    "                    assert('neither pos nor neg')\n",
    "\n",
    "                if 'train' in fpath:\n",
    "                    train_data.append([line,str(cls)])\n",
    "                elif 'test' in fpath:\n",
    "                    test_data.append([line, str(cls)])\n",
    "                else:\n",
    "                    assert('neither train nor test')\n",
    "                \n",
    "        #break\n",
    "\n",
    "\n",
    "\n"
   ]
  },
  {
   "cell_type": "code",
   "execution_count": 3,
   "metadata": {},
   "outputs": [
    {
     "name": "stdout",
     "output_type": "stream",
     "text": [
      "<class 'str'>\n",
      "/data2/home/zhaoyi/labs/USTC-labs/deeplearn_lab2/dataset/aclImdb/train/pos/\n",
      "1806_8.txt\n",
      "/data2/home/zhaoyi/labs/USTC-labs/deeplearn_lab2/dataset/aclImdb/train/pos/1806_8.txt\n",
      "9028_10.txt\n",
      "<class 'str'>\n",
      "/data2/home/zhaoyi/labs/USTC-labs/deeplearn_lab2/dataset/aclImdb/train/neg/\n",
      "1714_1.txt\n",
      "/data2/home/zhaoyi/labs/USTC-labs/deeplearn_lab2/dataset/aclImdb/train/neg/1714_1.txt\n",
      "6324_1.txt\n",
      "<class 'str'>\n",
      "/data2/home/zhaoyi/labs/USTC-labs/deeplearn_lab2/dataset/aclImdb/test/pos/\n",
      "3194_10.txt\n",
      "/data2/home/zhaoyi/labs/USTC-labs/deeplearn_lab2/dataset/aclImdb/test/pos/3194_10.txt\n",
      "923_10.txt\n",
      "<class 'str'>\n",
      "/data2/home/zhaoyi/labs/USTC-labs/deeplearn_lab2/dataset/aclImdb/test/neg/\n",
      "1714_1.txt\n",
      "/data2/home/zhaoyi/labs/USTC-labs/deeplearn_lab2/dataset/aclImdb/test/neg/1714_1.txt\n",
      "4165_1.txt\n",
      "25000\n",
      "25000\n",
      "['I wish kids movies were still made this way; dark and deep. There was (get this) character development (and Charlie is the epitome of the dynamic character), plot development, superb animation, emotional involvement, and a rational, relatable, and consistent theme. If not for the handful of song-and-dance routines, you would never have thought this was a kids movie, and this is why I give it such a high rating. This movie is an excellent film, let alone for a kids\\' movie. Which brings me to my second point: this has got to be the darkest \"kids\\'\" movie I\\'ve seen in quite some time, this coming from a 22-year-old. I\\'d be shocked to see any child under the age of 8 not completely terrified throughout a great deal of the latter half and some of the first half of the movie, and it all ends with one of the saddest endings you could ever come across (ala \"Jurassic Bark\", for those of you who are \\'Futurama\\' fans), and this is what makes this movie so good. Just because the movie universally evokes emotions we don\\'t normally like to feel and assume are bad does not make the movie itself bad; in fact, it means it succeeded. Good funny movies are supposed to make us laugh; good horror movies are supposed to make us scared; good sad movies are supposed to make us sad. My point is, good movies are supposed to MOVE you, not simply entertain; this movie moved me.<br /><br />Also, this movie is incredibly violent by today\\'s standards for a kids\\' movie and contains subject matter that, by today\\'s standards, may not be suitable for some children. Parents, I\\'d say watch it first. I\\'m not usually one to say anything about this kind of thing, but I just saw this yesterday and it came as a surprise even to me.', '1']\n",
      "[\"I was initially excited about this movie and fully expected it to be a combination of Equilibruim and Farenheit 451. Unfortunately, I was continually disappointed in the lack of depth and interest of the plot and subplots. Midway through the movie, I divulged into poking fun at the characters and sets to avoid having to turn it off. I did enjoy the premise of a future with merged cultures and separation of the have's and have nots. What could have been an artful and intelligent look at the future is morphed into a plodding, semantic SciFi channel midnight flick with horrible acting, cheap sets and a final gratuitous shot of Tim Robbins vagina. Maybe he should stick to his socialist political ranting - it has all been downhill since Shawshank.\", '0']\n"
     ]
    }
   ],
   "source": [
    "for path in [train_pos, train_neg, test_pos, test_neg]:\n",
    "    walkFile(path)\n",
    "\n",
    "print(len(train_data))\n",
    "print(len(test_data))\n",
    "print(train_data[0])\n",
    "print(test_data[-1])"
   ]
  },
  {
   "cell_type": "code",
   "execution_count": 6,
   "metadata": {},
   "outputs": [],
   "source": [
    "# output the csv files\n",
    "import csv\n",
    "import random\n",
    "proced = '/data2/home/zhaoyi/labs/USTC-labs/deeplearn_lab2/dataset/procd'\n",
    "train_csv = proced + '/train.csv'\n",
    "test_csv = proced + '/test.csv'\n",
    "dev_csv = proced + '/dev.csv'\n",
    "\n",
    "with open(train_csv,'w',newline='',encoding='utf-8') as train_file, open(dev_csv,'w',newline='',encoding='utf-8') as dev_file:\n",
    "    train_writer = csv.writer(train_file)\n",
    "    dev_writer = csv.writer(dev_file)\n",
    "    for line in train_data:\n",
    "        if random.random() < 0.25:\n",
    "            dev_writer.writerow(line)\n",
    "        else:\n",
    "            train_writer.writerow(line)\n",
    "\n",
    "with open(test_csv,'w',newline='',encoding='utf-8') as csv_file:\n",
    "    writer = csv.writer(csv_file)\n",
    "    for line in train_data:\n",
    "        writer.writerow(line)"
   ]
  }
 ],
 "metadata": {
  "kernelspec": {
   "display_name": "Python 3.8.8 ('base')",
   "language": "python",
   "name": "python3"
  },
  "language_info": {
   "codemirror_mode": {
    "name": "ipython",
    "version": 3
   },
   "file_extension": ".py",
   "mimetype": "text/x-python",
   "name": "python",
   "nbconvert_exporter": "python",
   "pygments_lexer": "ipython3",
   "version": "3.8.8"
  },
  "orig_nbformat": 4,
  "vscode": {
   "interpreter": {
    "hash": "19e1942432a84160b99a17f87e7e4600300f515ff4805ea7b2f6199b7a48d87c"
   }
  }
 },
 "nbformat": 4,
 "nbformat_minor": 2
}
