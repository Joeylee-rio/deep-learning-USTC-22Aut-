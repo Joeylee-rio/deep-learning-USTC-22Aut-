{
 "cells": [
  {
   "cell_type": "code",
   "execution_count": 1,
   "metadata": {},
   "outputs": [
    {
     "name": "stdout",
     "output_type": "stream",
     "text": [
      "[2 3 4]\n"
     ]
    }
   ],
   "source": [
    "import numpy as np\n",
    "x = np.array([1,2,3,4,5,6])\n",
    "ids = [1,2,3]\n",
    "print(x[ids])"
   ]
  },
  {
   "cell_type": "code",
   "execution_count": 2,
   "metadata": {},
   "outputs": [
    {
     "name": "stdout",
     "output_type": "stream",
     "text": [
      "tensor([[3, 5, 4],\n",
      "        [4, 5, 8]])\n",
      "tensor([[1, 2, 3],\n",
      "        [4, 5, 8]])\n",
      "tensor([[ 3, 10, 12],\n",
      "        [16, 25, 64]])\n",
      "torch.Size([3])\n",
      "torch.Size([3])\n"
     ]
    }
   ],
   "source": [
    "import torch\n",
    "x = torch.tensor([[1,2,3],[3,5,4], [4,5,8]])\n",
    "ids1 = [1,2]\n",
    "ids2 = [0,2]\n",
    "print(x[ids1])\n",
    "print(x[ids2])\n",
    "print(x[ids1]*x[ids2])\n",
    "print(x[1].shape)\n",
    "print(x[:,1].shape)"
   ]
  }
 ],
 "metadata": {
  "kernelspec": {
   "display_name": "pygraphlearn",
   "language": "python",
   "name": "python3"
  },
  "language_info": {
   "codemirror_mode": {
    "name": "ipython",
    "version": 3
   },
   "file_extension": ".py",
   "mimetype": "text/x-python",
   "name": "python",
   "nbconvert_exporter": "python",
   "pygments_lexer": "ipython3",
   "version": "3.8.16"
  },
  "orig_nbformat": 4,
  "vscode": {
   "interpreter": {
    "hash": "75aab5b4de37bf354cc84a0a3cf6c56ffb1808ba03c522941410339afbe6bf4d"
   }
  }
 },
 "nbformat": 4,
 "nbformat_minor": 2
}
